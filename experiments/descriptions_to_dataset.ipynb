{
 "metadata": {
  "language_info": {
   "codemirror_mode": {
    "name": "ipython",
    "version": 3
   },
   "file_extension": ".py",
   "mimetype": "text/x-python",
   "name": "python",
   "nbconvert_exporter": "python",
   "pygments_lexer": "ipython3",
   "version": "3.8.5"
  },
  "orig_nbformat": 2,
  "kernelspec": {
   "name": "python385jvsc74a57bd02fce13e194471b38bd8d263bab933dba4c75d27dae69e803f4e8ea63cfc2de09",
   "display_name": "Python 3.8.5 64-bit ('business-namer': conda)"
  }
 },
 "nbformat": 4,
 "nbformat_minor": 2,
 "cells": [
  {
   "cell_type": "code",
   "execution_count": 1,
   "metadata": {},
   "outputs": [],
   "source": [
    "import pandas as pd\n",
    "\n",
    "from pathlib import Path"
   ]
  },
  {
   "cell_type": "code",
   "execution_count": 2,
   "metadata": {},
   "outputs": [],
   "source": [
    "DATA_PATH = Path('../data')"
   ]
  },
  {
   "cell_type": "code",
   "execution_count": 3,
   "metadata": {},
   "outputs": [],
   "source": [
    "with (DATA_PATH / 'descriptions.txt').open(mode='r') as f:\n",
    "    text = f.read()"
   ]
  },
  {
   "cell_type": "code",
   "execution_count": 4,
   "metadata": {},
   "outputs": [
    {
     "output_type": "execute_result",
     "data": {
      "text/plain": [
       "192622"
      ]
     },
     "metadata": {},
     "execution_count": 4
    }
   ],
   "source": [
    "len(text.split('===========================\\n'))"
   ]
  },
  {
   "cell_type": "code",
   "execution_count": 5,
   "metadata": {},
   "outputs": [],
   "source": [
    "names = []\n",
    "descriptions = []\n",
    "for definition in text.split('===========================\\n'):\n",
    "    business_name, _, business_description = definition.partition('\\n')\n",
    "    names.append(business_name)\n",
    "    descriptions.append(business_description.strip())"
   ]
  },
  {
   "cell_type": "code",
   "execution_count": 6,
   "metadata": {},
   "outputs": [
    {
     "output_type": "stream",
     "name": "stdout",
     "text": [
      "(192622, 2)\n"
     ]
    },
    {
     "output_type": "execute_result",
     "data": {
      "text/plain": [
       "                        name  \\\n",
       "0                        ibm   \n",
       "1  tata consultancy services   \n",
       "2                  accenture   \n",
       "3                    us army   \n",
       "4                         ey   \n",
       "\n",
       "                                         description  \n",
       "0  International Business Machines Corporation (I...  \n",
       "1  Tata Consultancy Services (TCS) is an Indian m...  \n",
       "2  The accentors are a genus of birds in the fami...  \n",
       "3                                                     \n",
       "4                                                     "
      ],
      "text/html": "<div>\n<style scoped>\n    .dataframe tbody tr th:only-of-type {\n        vertical-align: middle;\n    }\n\n    .dataframe tbody tr th {\n        vertical-align: top;\n    }\n\n    .dataframe thead th {\n        text-align: right;\n    }\n</style>\n<table border=\"1\" class=\"dataframe\">\n  <thead>\n    <tr style=\"text-align: right;\">\n      <th></th>\n      <th>name</th>\n      <th>description</th>\n    </tr>\n  </thead>\n  <tbody>\n    <tr>\n      <th>0</th>\n      <td>ibm</td>\n      <td>International Business Machines Corporation (I...</td>\n    </tr>\n    <tr>\n      <th>1</th>\n      <td>tata consultancy services</td>\n      <td>Tata Consultancy Services (TCS) is an Indian m...</td>\n    </tr>\n    <tr>\n      <th>2</th>\n      <td>accenture</td>\n      <td>The accentors are a genus of birds in the fami...</td>\n    </tr>\n    <tr>\n      <th>3</th>\n      <td>us army</td>\n      <td></td>\n    </tr>\n    <tr>\n      <th>4</th>\n      <td>ey</td>\n      <td></td>\n    </tr>\n  </tbody>\n</table>\n</div>"
     },
     "metadata": {},
     "execution_count": 6
    }
   ],
   "source": [
    "df = pd.DataFrame({\n",
    "    'name': names,\n",
    "    'description': descriptions\n",
    "})\n",
    "print(df.shape)\n",
    "df.head()"
   ]
  },
  {
   "source": [
    "df = df.loc[df.description.str.len() > 0]\n",
    "print(df.shape)"
   ],
   "cell_type": "code",
   "metadata": {},
   "execution_count": 7,
   "outputs": [
    {
     "output_type": "stream",
     "name": "stdout",
     "text": [
      "(125995, 2)\n"
     ]
    }
   ]
  },
  {
   "cell_type": "code",
   "execution_count": 8,
   "metadata": {},
   "outputs": [],
   "source": [
    "df.to_pickle(DATA_PATH / 'dataset.pkl')"
   ]
  }
 ]
}